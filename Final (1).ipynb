{
 "cells": [
  {
   "cell_type": "code",
   "execution_count": 1,
   "id": "838d717b-bfd9-4998-9a31-108c343a20c8",
   "metadata": {},
   "outputs": [
    {
     "data": {
      "text/plain": [
       "'DataScienceEcosystem'"
      ]
     },
     "execution_count": 1,
     "metadata": {},
     "output_type": "execute_result"
    }
   ],
   "source": [
    "\"DataScienceEcosystem\""
   ]
  },
  {
   "cell_type": "code",
   "execution_count": null,
   "id": "5d58657f-8e0b-44af-b64c-868f0901e806",
   "metadata": {},
   "outputs": [],
   "source": [
    "# Data Science Tools and Ecosystem"
   ]
  },
  {
   "cell_type": "markdown",
   "id": "0d8d5ca0-8580-4d86-9ca6-23eebbc3a503",
   "metadata": {},
   "source": [
    "In this notebook, Data Science Tools and Ecosystem are summarized."
   ]
  },
  {
   "cell_type": "markdown",
   "id": "98cd46a6-6203-445b-b845-61b0cd55e873",
   "metadata": {},
   "source": [
    "**Objectives:**\n",
    "- Explore Data Science tools and environments\n",
    "- Demonstrate basic arithmetic operations in Python\n",
    "- Show how to convert units using Python expressions\n",
    "- List popular languages for Data Science\n",
    "- Introduce commonly used libraries in Data Science"
   ]
  },
  {
   "cell_type": "markdown",
   "id": "45b94255-1412-4b7c-b097-df55db5da0a8",
   "metadata": {},
   "source": [
    "Some of the popular languages that Data Scientists use are:\n",
    "1. Python\n",
    "2. R\n",
    "3. SQL\n",
    "4. Scala\n",
    "5. Julia\n",
    "   "
   ]
  },
  {
   "cell_type": "markdown",
   "id": "303367fa-cb60-4208-a188-ec64cb3cde2d",
   "metadata": {},
   "source": [
    "Some of the commonly used libraries used by Data Scientists include:\n",
    "1. NumPy\n",
    "2. Pandas\n",
    "3. Matplotlib\n",
    "4. Scikit-learn\n",
    "5. TensorFlow"
   ]
  },
  {
   "cell_type": "markdown",
   "id": "6b1a984f-a6ee-49bb-a375-e6b5c7952bbc",
   "metadata": {},
   "source": [
    " Data Science Tools \n",
    " Jupyter Notebooks  \n",
    " RStudio            \n",
    " VS Code      "
   ]
  },
  {
   "cell_type": "markdown",
   "id": "1155c134-fa3b-46d2-9817-7a59305f7cbd",
   "metadata": {},
   "source": [
    "### Below are a few examples of evaluating arithmetic expressions in Python"
   ]
  },
  {
   "cell_type": "code",
   "execution_count": 2,
   "id": "3224306c-3519-400a-bc55-f6b5b1ac6f90",
   "metadata": {},
   "outputs": [
    {
     "data": {
      "text/plain": [
       "17"
      ]
     },
     "execution_count": 2,
     "metadata": {},
     "output_type": "execute_result"
    }
   ],
   "source": [
    "# This is a simple arithmetic expression to multiply then add integers\n",
    "(3*4)+5"
   ]
  },
  {
   "cell_type": "code",
   "execution_count": 3,
   "id": "87d2ea2b-226e-45e6-9a8d-9dcc703cd99a",
   "metadata": {},
   "outputs": [
    {
     "data": {
      "text/plain": [
       "3.3333333333333335"
      ]
     },
     "execution_count": 3,
     "metadata": {},
     "output_type": "execute_result"
    }
   ],
   "source": [
    "# This will convert 200 minutes to hours by dividing by 60\n",
    "200 / 60"
   ]
  },
  {
   "cell_type": "markdown",
   "id": "c1231a53-ae08-4670-a5c4-c7c868bd6db0",
   "metadata": {},
   "source": [
    "## Author\n",
    "Patrick Obure"
   ]
  },
  {
   "cell_type": "code",
   "execution_count": null,
   "id": "883fcaec-ded5-4a80-9a39-99c0ffff01c9",
   "metadata": {},
   "outputs": [],
   "source": []
  }
 ],
 "metadata": {
  "kernelspec": {
   "display_name": "anaconda-panel-2023.05-py310",
   "language": "python",
   "name": "conda-env-anaconda-panel-2023.05-py310-py"
  },
  "language_info": {
   "codemirror_mode": {
    "name": "ipython",
    "version": 3
   },
   "file_extension": ".py",
   "mimetype": "text/x-python",
   "name": "python",
   "nbconvert_exporter": "python",
   "pygments_lexer": "ipython3",
   "version": "3.11.5"
  }
 },
 "nbformat": 4,
 "nbformat_minor": 5
}
